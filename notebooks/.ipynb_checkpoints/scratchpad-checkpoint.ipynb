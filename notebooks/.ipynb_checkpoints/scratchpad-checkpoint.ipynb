{
 "cells": [
  {
   "cell_type": "code",
   "execution_count": 2,
   "metadata": {},
   "outputs": [],
   "source": [
    "%load_ext lab_black"
   ]
  },
  {
   "cell_type": "code",
   "execution_count": 23,
   "metadata": {},
   "outputs": [],
   "source": [
    "import sys\n",
    "import itertools\n",
    "import random\n",
    "from tqdm import tqdm"
   ]
  },
  {
   "cell_type": "code",
   "execution_count": 4,
   "metadata": {},
   "outputs": [],
   "source": [
    "sys.path.append(\"../server/\")"
   ]
  },
  {
   "cell_type": "code",
   "execution_count": 5,
   "metadata": {},
   "outputs": [],
   "source": [
    "import minesweeper"
   ]
  },
  {
   "cell_type": "code",
   "execution_count": 6,
   "metadata": {},
   "outputs": [],
   "source": [
    "from importlib import reload"
   ]
  },
  {
   "cell_type": "code",
   "execution_count": 7,
   "metadata": {},
   "outputs": [
    {
     "data": {
      "text/plain": [
       "<module 'minesweeper' from '../server/minesweeper.py'>"
      ]
     },
     "execution_count": 7,
     "metadata": {},
     "output_type": "execute_result"
    }
   ],
   "source": [
    "reload(minesweeper)"
   ]
  },
  {
   "cell_type": "code",
   "execution_count": 8,
   "metadata": {},
   "outputs": [],
   "source": [
    "game = minesweeper.Game()"
   ]
  },
  {
   "cell_type": "code",
   "execution_count": 9,
   "metadata": {},
   "outputs": [
    {
     "data": {
      "text/plain": [
       "array([[0., 0., 0., 0., 0., 0., 0., 0., 0., 0.],\n",
       "       [0., 0., 0., 0., 0., 0., 1., 0., 0., 1.],\n",
       "       [0., 0., 0., 1., 0., 0., 0., 0., 0., 0.],\n",
       "       [0., 1., 0., 0., 0., 0., 0., 0., 0., 0.],\n",
       "       [0., 0., 0., 0., 0., 0., 0., 0., 0., 1.],\n",
       "       [1., 0., 0., 0., 0., 0., 0., 0., 0., 0.],\n",
       "       [0., 1., 0., 0., 0., 0., 0., 0., 0., 0.],\n",
       "       [0., 1., 0., 0., 0., 0., 0., 0., 0., 0.],\n",
       "       [0., 1., 0., 0., 0., 0., 0., 0., 0., 0.],\n",
       "       [0., 0., 0., 1., 0., 0., 0., 0., 0., 0.]])"
      ]
     },
     "execution_count": 9,
     "metadata": {},
     "output_type": "execute_result"
    }
   ],
   "source": [
    "game.mine_locations"
   ]
  },
  {
   "cell_type": "code",
   "execution_count": 10,
   "metadata": {},
   "outputs": [],
   "source": [
    "game.click(0, 0)"
   ]
  },
  {
   "cell_type": "code",
   "execution_count": 11,
   "metadata": {},
   "outputs": [
    {
     "data": {
      "text/plain": [
       "array([[ 0.,  0.,  0.,  0.,  0.,  1., -1., -1., -1., -1.],\n",
       "       [ 0.,  0.,  1.,  1.,  1.,  1., -1., -1., -1., -1.],\n",
       "       [ 1.,  1.,  2., -1., -1., -1., -1., -1., -1., -1.],\n",
       "       [-1., -1., -1., -1., -1., -1., -1., -1., -1., -1.],\n",
       "       [-1., -1., -1., -1., -1., -1., -1., -1., -1., -1.],\n",
       "       [-1., -1., -1., -1., -1., -1., -1., -1., -1., -1.],\n",
       "       [-1., -1., -1., -1., -1., -1., -1., -1., -1., -1.],\n",
       "       [-1., -1., -1., -1., -1., -1., -1., -1., -1., -1.],\n",
       "       [-1., -1., -1., -1., -1., -1., -1., -1., -1., -1.],\n",
       "       [-1., -1., -1., -1., -1., -1., -1., -1., -1., -1.]])"
      ]
     },
     "execution_count": 11,
     "metadata": {},
     "output_type": "execute_result"
    }
   ],
   "source": [
    "game.revealed_state"
   ]
  },
  {
   "cell_type": "code",
   "execution_count": 42,
   "metadata": {},
   "outputs": [],
   "source": [
    "class RandomStrategy:\n",
    "    def __init__(\n",
    "        self,\n",
    "        revealed_state,\n",
    "        flagged_mines,\n",
    "        unclicked_non_mine_count,\n",
    "        unflagged_mine_count,\n",
    "    ):\n",
    "        self.revealed_state = revealed_state\n",
    "        self.flagged_mines = flagged_mines\n",
    "        self.unclicked_non_mine_count = unclicked_non_mine_count\n",
    "        self.unflagged_mine_count = unflagged_mine_count\n",
    "        self.x_max = revealed_state.shape[0]\n",
    "        self.y_max = revealed_state.shape[1]\n",
    "        self.mine_flag_suggestions = []\n",
    "\n",
    "    def find_action(self):\n",
    "        while True:\n",
    "            x, y = random.sample(\n",
    "                list(itertools.product(range(self.x_max), range(self.y_max))), k=1\n",
    "            )[0]\n",
    "            if self.revealed_state[x][y] == -1:\n",
    "                return (x, y), \"click\""
   ]
  },
  {
   "cell_type": "code",
   "execution_count": 43,
   "metadata": {},
   "outputs": [],
   "source": [
    "class MineFlagStrategy:\n",
    "    def __init__(\n",
    "        self,\n",
    "        revealed_state,\n",
    "        flagged_mines,\n",
    "        unclicked_non_mine_count,\n",
    "        unflagged_mine_count,\n",
    "    ):\n",
    "        self.revealed_state = revealed_state\n",
    "        self.flagged_mines = flagged_mines\n",
    "        self.unclicked_non_mine_count = unclicked_non_mine_count\n",
    "        self.unflagged_mine_count = unflagged_mine_count\n",
    "        self.x_max = revealed_state.shape[0]\n",
    "        self.y_max = revealed_state.shape[1]\n",
    "        self.mine_flag_indexes = False\n",
    "\n",
    "    def find_random_suggestion(self):\n",
    "        while True:\n",
    "            x, y = random.sample(\n",
    "                list(itertools.product(range(self.x_max), range(self.y_max))), k=1\n",
    "            )[0]\n",
    "            if self.revealed_state[x][y] == -1:\n",
    "                return (x, y), \"click\"\n",
    "\n",
    "    def find_action(self):\n",
    "        for x in range(self.x_max):\n",
    "            for y in range(self.y_max):\n",
    "                neighboring_flagged_mines = self.find_neighboring_flagged_mines(\n",
    "                    x, y, self.revealed_state[x][y]\n",
    "                )\n",
    "                if (\n",
    "                    neighboring_flagged_mines == self.revealed_state[x][y]\n",
    "                    and neighboring_flagged_mines > 0\n",
    "                ):\n",
    "                    for x_neighbor, y_neighbour in minesweeper.gen_neighbor_indexes(\n",
    "                        x, y, self.x_max, self.y_max\n",
    "                    ):\n",
    "                        if self.flagged_mines[x_neighbor][y_neighbour] == -1:\n",
    "                            return (x_neighbour, y_neighbour), \"click\"\n",
    "                if self.mine_flag_indexes:\n",
    "                    return self.mine_flag_indexes, \"flag\"\n",
    "        return self.find_random_suggestion()\n",
    "\n",
    "    def find_neighboring_flagged_mines(self, x, y, revealed_mine_total):\n",
    "        \"\"\"\n",
    "        Finds number of neighbours of cell\n",
    "\n",
    "        Args:\n",
    "            x: cell row\n",
    "            y: cell col\n",
    "\n",
    "        Returns:\n",
    "            Number of mines neigbhouring cell\n",
    "        \"\"\"\n",
    "        flagged_mine_total = 0\n",
    "        unexplored_total = 0\n",
    "        unexplored_index = -1, -1\n",
    "        for x_neighbor, y_neighbour in minesweeper.gen_neighbor_indexes(\n",
    "            x, y, self.x_max, self.y_max\n",
    "        ):\n",
    "            flagged_mine_total += self.flagged_mines[x_neighbor][x_neighbor]\n",
    "            if self.revealed_state[x_neighbor][x_neighbor] == -1:\n",
    "                unexplored_index = x_neighbor, x_neighbor\n",
    "                unexplored_total += 1\n",
    "\n",
    "        if (\n",
    "            revealed_mine_total - flagged_mine_total == unexplored_total\n",
    "            and revealed_mine_total > 0\n",
    "        ):\n",
    "            self.mine_flag_indexes = unexplored_index\n",
    "        return flagged_mine_total - self.flagged_mines[x][y]"
   ]
  },
  {
   "cell_type": "code",
   "execution_count": 44,
   "metadata": {},
   "outputs": [],
   "source": [
    "def evaluate_strategy(strategy, x_max=10, y_max=10, n_mines=5, n=250):\n",
    "    total = 0\n",
    "    for i in tqdm(range(n)):\n",
    "\n",
    "        game_n = minesweeper.Game(x_max=x_max, y_max=y_max, num_mines=n_mines)\n",
    "        while not (game_n.has_won or game_n.has_lost):\n",
    "            strategy_n = strategy(\n",
    "                game_n.revealed_state,\n",
    "                game_n.flagged_mines,\n",
    "                game_n.unclicked_non_mine_count,\n",
    "                game_n.unflagged_mine_count,\n",
    "            )\n",
    "            (x, y), action = strategy_n.find_action()\n",
    "            if action == \"flag\":\n",
    "                game_n.flag(x, y)\n",
    "            else:\n",
    "                game_n.click(x, y)\n",
    "        if game_n.has_won:\n",
    "            total += 1\n",
    "\n",
    "    return total / n"
   ]
  },
  {
   "cell_type": "code",
   "execution_count": 49,
   "metadata": {},
   "outputs": [
    {
     "name": "stderr",
     "output_type": "stream",
     "text": [
      "\n",
      "  0%|          | 0/500 [00:00<?, ?it/s]\u001b[A\n",
      " 10%|█         | 51/500 [00:00<00:00, 502.77it/s]\u001b[A\n",
      " 24%|██▎       | 118/500 [00:00<00:00, 542.77it/s]\u001b[A\n",
      " 36%|███▋      | 182/500 [00:00<00:00, 567.86it/s]\u001b[A\n",
      " 51%|█████     | 253/500 [00:00<00:00, 603.15it/s]\u001b[A\n",
      " 64%|██████▍   | 322/500 [00:00<00:00, 625.13it/s]\u001b[A\n",
      " 78%|███████▊  | 388/500 [00:00<00:00, 633.91it/s]\u001b[A\n",
      "100%|██████████| 500/500 [00:00<00:00, 646.87it/s]\u001b[A\n"
     ]
    }
   ],
   "source": [
    "res = evaluate_strategy(RandomStrategy, n=500)"
   ]
  },
  {
   "cell_type": "code",
   "execution_count": 50,
   "metadata": {},
   "outputs": [
    {
     "data": {
      "text/plain": [
       "0.068"
      ]
     },
     "execution_count": 50,
     "metadata": {},
     "output_type": "execute_result"
    }
   ],
   "source": [
    "res"
   ]
  },
  {
   "cell_type": "code",
   "execution_count": 52,
   "metadata": {},
   "outputs": [
    {
     "name": "stderr",
     "output_type": "stream",
     "text": [
      "\n",
      "\n",
      "  0%|          | 0/50 [00:00<?, ?it/s]\u001b[A\u001b[A\n",
      "\n",
      " 28%|██▊       | 14/50 [00:00<00:00, 134.74it/s]\u001b[A\u001b[A\n",
      "\n",
      " 60%|██████    | 30/50 [00:00<00:00, 138.75it/s]\u001b[A\u001b[A\n",
      "\n",
      "100%|██████████| 50/50 [00:00<00:00, 148.47it/s]\u001b[A\u001b[A\n"
     ]
    }
   ],
   "source": [
    "res2 = evaluate_strategy(MineFlagStrategy, n=50)"
   ]
  },
  {
   "cell_type": "code",
   "execution_count": 53,
   "metadata": {},
   "outputs": [
    {
     "data": {
      "text/plain": [
       "0.06"
      ]
     },
     "execution_count": 53,
     "metadata": {},
     "output_type": "execute_result"
    }
   ],
   "source": [
    "res2"
   ]
  },
  {
   "cell_type": "code",
   "execution_count": 54,
   "metadata": {},
   "outputs": [],
   "source": [
    "class ValidCheck:\n",
    "    def __init__(\n",
    "        self,\n",
    "        revealed_state,\n",
    "        flagged_mines,\n",
    "        unclicked_non_mine_count,\n",
    "        unflagged_mine_count,\n",
    "    ):\n",
    "        self.revealed_state = revealed_state\n",
    "        self.flagged_mines = flagged_mines\n",
    "        self.unclicked_non_mine_count = unclicked_non_mine_count\n",
    "        self.unflagged_mine_count = unflagged_mine_count\n",
    "        self.x_max = revealed_state.shape[0]\n",
    "        self.y_max = revealed_state.shape[1]\n",
    "        \n",
    "    def check_too_many_neighbors(self, x, y, revealed_mine_total):\n",
    "        \"\"\"\n",
    "        Finds number of neighbours of cell\n",
    "\n",
    "        Args:\n",
    "            x: cell row\n",
    "            y: cell col\n",
    "\n",
    "        Returns:\n",
    "            Number of mines neigbhouring cell\n",
    "        \"\"\"\n",
    "        flagged_mine_total = 0\n",
    "        for x_neighbor, y_neighbour in minesweeper.gen_neighbor_indexes(\n",
    "            x, y, self.x_max, self.y_max\n",
    "        ):\n",
    "            flagged_mine_total += self.flagged_mines[x_neighbor][x_neighbor]\n",
    "            \n",
    "        if (\n",
    "            revealed_mine_total - flagged_mine_total == unexplored_total\n",
    "            and revealed_mine_total > 0\n",
    "        ):\n",
    "            self.mine_flag_indexes = unexplored_index\n",
    "        return flagged_mine_total - self.flagged_mines[x][y]"
   ]
  },
  {
   "cell_type": "code",
   "execution_count": null,
   "metadata": {},
   "outputs": [],
   "source": [
    "class ContraditionCheckStrategy:\n",
    "    def __init__(\n",
    "        self,\n",
    "        revealed_state,\n",
    "        flagged_mines,\n",
    "        unclicked_non_mine_count,\n",
    "        unflagged_mine_count,\n",
    "    ):\n",
    "        self.revealed_state = revealed_state\n",
    "        self.flagged_mines = flagged_mines\n",
    "        self.unclicked_non_mine_count = unclicked_non_mine_count\n",
    "        self.unflagged_mine_count = unflagged_mine_count\n",
    "        self.x_max = revealed_state.shape[0]\n",
    "        self.y_max = revealed_state.shape[1]\n",
    "        self.mine_flag_indexes = False\n",
    "\n",
    "    def find_random_suggestion(self):\n",
    "        while True:\n",
    "            x, y = random.sample(\n",
    "                list(itertools.product(range(self.x_max), range(self.y_max))), k=1\n",
    "            )[0]\n",
    "            if self.revealed_state[x][y] == -1:\n",
    "                return (x, y), \"click\"\n",
    "\n",
    "    def find_action(self):\n",
    "        for x in range(self.x_max):\n",
    "            for y in range(self.y_max):\n",
    "                neighboring_flagged_mines = self.find_neighboring_flagged_mines(\n",
    "                    x, y, self.revealed_state[x][y]\n",
    "                )\n",
    "                if (\n",
    "                    neighboring_flagged_mines == self.revealed_state[x][y]\n",
    "                    and neighboring_flagged_mines > 0\n",
    "                ):\n",
    "                    for x_neighbor, y_neighbour in minesweeper.gen_neighbor_indexes(\n",
    "                        x, y, self.x_max, self.y_max\n",
    "                    ):\n",
    "                        if self.flagged_mines[x_neighbor][y_neighbour] == -1:\n",
    "                            return (x_neighbour, y_neighbour), \"click\"\n",
    "                if self.mine_flag_indexes:\n",
    "                    return self.mine_flag_indexes, \"flag\"\n",
    "        return self.find_random_suggestion()\n",
    "\n",
    "    def find_neighboring_flagged_mines(self, x, y, revealed_mine_total):\n",
    "        \"\"\"\n",
    "        Finds number of neighbours of cell\n",
    "\n",
    "        Args:\n",
    "            x: cell row\n",
    "            y: cell col\n",
    "\n",
    "        Returns:\n",
    "            Number of mines neigbhouring cell\n",
    "        \"\"\"\n",
    "        flagged_mine_total = 0\n",
    "        unexplored_total = 0\n",
    "        unexplored_index = -1, -1\n",
    "        for x_neighbor, y_neighbour in minesweeper.gen_neighbor_indexes(\n",
    "            x, y, self.x_max, self.y_max\n",
    "        ):\n",
    "            flagged_mine_total += self.flagged_mines[x_neighbor][x_neighbor]\n",
    "            if self.revealed_state[x_neighbor][x_neighbor] == -1:\n",
    "                unexplored_index = x_neighbor, x_neighbor\n",
    "                unexplored_total += 1\n",
    "\n",
    "        if (\n",
    "            revealed_mine_total - flagged_mine_total == unexplored_total\n",
    "            and revealed_mine_total > 0\n",
    "        ):\n",
    "            self.mine_flag_indexes = unexplored_index\n",
    "        return flagged_mine_total - self.flagged_mines[x][y]"
   ]
  }
 ],
 "metadata": {
  "kernelspec": {
   "display_name": "Python 3",
   "language": "python",
   "name": "python3"
  },
  "language_info": {
   "codemirror_mode": {
    "name": "ipython",
    "version": 3
   },
   "file_extension": ".py",
   "mimetype": "text/x-python",
   "name": "python",
   "nbconvert_exporter": "python",
   "pygments_lexer": "ipython3",
   "version": "3.8.2"
  }
 },
 "nbformat": 4,
 "nbformat_minor": 4
}

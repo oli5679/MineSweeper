{
 "cells": [
  {
   "cell_type": "code",
   "execution_count": 55,
   "metadata": {},
   "outputs": [
    {
     "name": "stdout",
     "output_type": "stream",
     "text": [
      "The lab_black extension is already loaded. To reload it, use:\n",
      "  %reload_ext lab_black\n"
     ]
    }
   ],
   "source": [
    "%load_ext lab_black"
   ]
  },
  {
   "cell_type": "code",
   "execution_count": 56,
   "metadata": {},
   "outputs": [],
   "source": [
    "import sys\n",
    "import itertools\n",
    "import random\n",
    "from tqdm import tqdm"
   ]
  },
  {
   "cell_type": "code",
   "execution_count": 57,
   "metadata": {},
   "outputs": [],
   "source": [
    "sys.path.append(\"../server/\")"
   ]
  },
  {
   "cell_type": "code",
   "execution_count": 58,
   "metadata": {},
   "outputs": [],
   "source": [
    "import minesweeper"
   ]
  },
  {
   "cell_type": "code",
   "execution_count": 59,
   "metadata": {},
   "outputs": [],
   "source": [
    "from importlib import reload"
   ]
  },
  {
   "cell_type": "code",
   "execution_count": 60,
   "metadata": {},
   "outputs": [
    {
     "data": {
      "text/plain": [
       "<module 'minesweeper' from '../server/minesweeper.py'>"
      ]
     },
     "execution_count": 60,
     "metadata": {},
     "output_type": "execute_result"
    }
   ],
   "source": [
    "reload(minesweeper)"
   ]
  },
  {
   "cell_type": "code",
   "execution_count": 61,
   "metadata": {},
   "outputs": [],
   "source": [
    "game = minesweeper.Game()"
   ]
  },
  {
   "cell_type": "code",
   "execution_count": 62,
   "metadata": {},
   "outputs": [
    {
     "data": {
      "text/plain": [
       "array([[0., 0., 0., 0., 0., 0., 0., 0., 1., 0.],\n",
       "       [0., 0., 0., 0., 0., 0., 0., 0., 0., 1.],\n",
       "       [0., 0., 0., 0., 0., 0., 1., 0., 0., 0.],\n",
       "       [0., 0., 0., 0., 0., 1., 0., 0., 0., 0.],\n",
       "       [0., 0., 1., 0., 0., 0., 0., 0., 0., 0.],\n",
       "       [0., 0., 0., 0., 0., 0., 1., 1., 0., 0.],\n",
       "       [0., 0., 0., 0., 0., 0., 0., 0., 0., 1.],\n",
       "       [0., 0., 0., 0., 0., 0., 0., 0., 0., 0.],\n",
       "       [0., 0., 0., 1., 0., 0., 0., 0., 1., 0.],\n",
       "       [0., 0., 0., 0., 0., 0., 0., 0., 0., 0.]])"
      ]
     },
     "execution_count": 62,
     "metadata": {},
     "output_type": "execute_result"
    }
   ],
   "source": [
    "game.mine_locations"
   ]
  },
  {
   "cell_type": "code",
   "execution_count": 63,
   "metadata": {},
   "outputs": [],
   "source": [
    "game.click(0, 0)"
   ]
  },
  {
   "cell_type": "code",
   "execution_count": 64,
   "metadata": {},
   "outputs": [
    {
     "data": {
      "text/plain": [
       "array([[ 0.,  0.,  0.,  0.,  0.,  0.,  0.,  1., -1., -1.],\n",
       "       [ 0.,  0.,  0.,  0.,  0.,  1.,  1.,  2., -1., -1.],\n",
       "       [ 0.,  0.,  0.,  0.,  1.,  2., -1., -1., -1., -1.],\n",
       "       [ 0.,  1.,  1.,  1.,  1., -1., -1., -1., -1., -1.],\n",
       "       [ 0.,  1., -1.,  1.,  1.,  2., -1., -1., -1., -1.],\n",
       "       [ 0.,  1.,  1.,  1.,  0.,  1., -1., -1., -1., -1.],\n",
       "       [ 0.,  0.,  0.,  0.,  0.,  1.,  2.,  2., -1., -1.],\n",
       "       [ 0.,  0.,  1.,  1.,  1.,  0.,  0.,  1., -1., -1.],\n",
       "       [ 0.,  0.,  1., -1.,  1.,  0.,  0.,  1., -1., -1.],\n",
       "       [ 0.,  0.,  1., -1.,  1.,  0.,  0.,  1., -1., -1.]])"
      ]
     },
     "execution_count": 64,
     "metadata": {},
     "output_type": "execute_result"
    }
   ],
   "source": [
    "game.revealed_state"
   ]
  },
  {
   "cell_type": "code",
   "execution_count": 65,
   "metadata": {},
   "outputs": [],
   "source": [
    "class RandomStrategy:\n",
    "    def __init__(\n",
    "        self,\n",
    "        revealed_state,\n",
    "        flagged_mines,\n",
    "        unclicked_non_mine_count,\n",
    "        unflagged_mine_count,\n",
    "    ):\n",
    "        self.revealed_state = revealed_state\n",
    "        self.flagged_mines = flagged_mines\n",
    "        self.unclicked_non_mine_count = unclicked_non_mine_count\n",
    "        self.unflagged_mine_count = unflagged_mine_count\n",
    "        self.x_max = revealed_state.shape[0]\n",
    "        self.y_max = revealed_state.shape[1]\n",
    "        self.mine_flag_suggestions = []\n",
    "\n",
    "    def find_action(self):\n",
    "        while True:\n",
    "            x, y = random.sample(\n",
    "                list(itertools.product(range(self.x_max), range(self.y_max))), k=1\n",
    "            )[0]\n",
    "            if self.revealed_state[x][y] == -1:\n",
    "                return (x, y), \"click\""
   ]
  },
  {
   "cell_type": "code",
   "execution_count": 66,
   "metadata": {},
   "outputs": [],
   "source": [
    "class MineFlagStrategy:\n",
    "    def __init__(\n",
    "        self,\n",
    "        revealed_state,\n",
    "        flagged_mines,\n",
    "        unclicked_non_mine_count,\n",
    "        unflagged_mine_count,\n",
    "    ):\n",
    "        self.revealed_state = revealed_state\n",
    "        self.flagged_mines = flagged_mines\n",
    "        self.unclicked_non_mine_count = unclicked_non_mine_count\n",
    "        self.unflagged_mine_count = unflagged_mine_count\n",
    "        self.x_max = revealed_state.shape[0]\n",
    "        self.y_max = revealed_state.shape[1]\n",
    "        self.mine_flag_indexes = False\n",
    "\n",
    "    def find_random_suggestion(self):\n",
    "        while True:\n",
    "            x, y = random.sample(\n",
    "                list(itertools.product(range(self.x_max), range(self.y_max))), k=1\n",
    "            )[0]\n",
    "            if self.revealed_state[x][y] == -1:\n",
    "                return (x, y), \"click\"\n",
    "\n",
    "    def find_action(self):\n",
    "        for x in range(self.x_max):\n",
    "            for y in range(self.y_max):\n",
    "                neighboring_flagged_mines = self.find_neighboring_flagged_mines(\n",
    "                    x, y, self.revealed_state[x][y]\n",
    "                )\n",
    "                if (\n",
    "                    neighboring_flagged_mines == self.revealed_state[x][y]\n",
    "                    and neighboring_flagged_mines > 0\n",
    "                ):\n",
    "                    for x_neighbor, y_neighbour in minesweeper.gen_neighbor_indexes(\n",
    "                        x, y, self.x_max, self.y_max\n",
    "                    ):\n",
    "                        if self.flagged_mines[x_neighbor][y_neighbour] == -1:\n",
    "                            return (x_neighbour, y_neighbour), \"click\"\n",
    "                if self.mine_flag_indexes:\n",
    "                    return self.mine_flag_indexes, \"flag\"\n",
    "        return self.find_random_suggestion()\n",
    "\n",
    "    def find_neighboring_flagged_mines(self, x, y, revealed_mine_total):\n",
    "        \"\"\"\n",
    "        Finds number of neighbours of cell\n",
    "\n",
    "        Args:\n",
    "            x: cell row\n",
    "            y: cell col\n",
    "\n",
    "        Returns:\n",
    "            Number of mines neigbhouring cell\n",
    "        \"\"\"\n",
    "        flagged_mine_total = 0\n",
    "        unexplored_total = 0\n",
    "        unexplored_index = -1, -1\n",
    "        for x_neighbor, y_neighbour in minesweeper.gen_neighbor_indexes(\n",
    "            x, y, self.x_max, self.y_max\n",
    "        ):\n",
    "            flagged_mine_total += self.flagged_mines[x_neighbor][x_neighbor]\n",
    "            if self.revealed_state[x_neighbor][x_neighbor] == -1:\n",
    "                unexplored_index = x_neighbor, x_neighbor\n",
    "                unexplored_total += 1\n",
    "\n",
    "        if (\n",
    "            revealed_mine_total - flagged_mine_total == unexplored_total\n",
    "            and revealed_mine_total > 0\n",
    "        ):\n",
    "            self.mine_flag_indexes = unexplored_index\n",
    "        return flagged_mine_total - self.flagged_mines[x][y]"
   ]
  },
  {
   "cell_type": "code",
   "execution_count": 67,
   "metadata": {},
   "outputs": [],
   "source": [
    "def evaluate_strategy(strategy, x_max=10, y_max=10, n_mines=5, n=250):\n",
    "    total = 0\n",
    "    for i in tqdm(range(n)):\n",
    "\n",
    "        game_n = minesweeper.Game(x_max=x_max, y_max=y_max, num_mines=n_mines)\n",
    "        while not (game_n.has_won or game_n.has_lost):\n",
    "            strategy_n = strategy(\n",
    "                game_n.revealed_state,\n",
    "                game_n.flagged_mines,\n",
    "                game_n.unclicked_non_mine_count,\n",
    "                game_n.unflagged_mine_count,\n",
    "            )\n",
    "            (x, y), action = strategy_n.find_action()\n",
    "            if action == \"flag\":\n",
    "                game_n.flag(x, y)\n",
    "            else:\n",
    "                game_n.click(x, y)\n",
    "        if game_n.has_won:\n",
    "            total += 1\n",
    "\n",
    "    return total / n"
   ]
  },
  {
   "cell_type": "code",
   "execution_count": 68,
   "metadata": {},
   "outputs": [
    {
     "name": "stderr",
     "output_type": "stream",
     "text": [
      "\n",
      "\n",
      "  0%|          | 0/500 [00:00<?, ?it/s]\u001b[A\u001b[A\n",
      "\n",
      " 11%|█         | 56/500 [00:00<00:00, 559.13it/s]\u001b[A\u001b[A\n",
      "\n",
      " 24%|██▍       | 120/500 [00:00<00:00, 580.03it/s]\u001b[A\u001b[A\n",
      "\n",
      " 36%|███▌      | 180/500 [00:00<00:00, 585.07it/s]\u001b[A\u001b[A\n",
      "\n",
      " 49%|████▉     | 245/500 [00:00<00:00, 602.97it/s]\u001b[A\u001b[A\n",
      "\n",
      " 63%|██████▎   | 313/500 [00:00<00:00, 624.06it/s]\u001b[A\u001b[A\n",
      "\n",
      " 76%|███████▋  | 382/500 [00:00<00:00, 639.95it/s]\u001b[A\u001b[A\n",
      "\n",
      "100%|██████████| 500/500 [00:00<00:00, 639.84it/s]\u001b[A\u001b[A\n"
     ]
    }
   ],
   "source": [
    "res = evaluate_strategy(RandomStrategy, n=500)"
   ]
  },
  {
   "cell_type": "code",
   "execution_count": 69,
   "metadata": {},
   "outputs": [
    {
     "data": {
      "text/plain": [
       "0.06"
      ]
     },
     "execution_count": 69,
     "metadata": {},
     "output_type": "execute_result"
    }
   ],
   "source": [
    "res"
   ]
  },
  {
   "cell_type": "code",
   "execution_count": 70,
   "metadata": {},
   "outputs": [
    {
     "name": "stderr",
     "output_type": "stream",
     "text": [
      "\n",
      "\n",
      "  0%|          | 0/50 [00:00<?, ?it/s]\u001b[A\u001b[A\n",
      "\n",
      " 32%|███▏      | 16/50 [00:00<00:00, 158.02it/s]\u001b[A\u001b[A\n",
      "\n",
      "100%|██████████| 50/50 [00:00<00:00, 168.35it/s]\u001b[A\u001b[A\n"
     ]
    }
   ],
   "source": [
    "res2 = evaluate_strategy(MineFlagStrategy, n=50)"
   ]
  },
  {
   "cell_type": "code",
   "execution_count": 71,
   "metadata": {},
   "outputs": [
    {
     "data": {
      "text/plain": [
       "0.02"
      ]
     },
     "execution_count": 71,
     "metadata": {},
     "output_type": "execute_result"
    }
   ],
   "source": [
    "res2"
   ]
  },
  {
   "cell_type": "code",
   "execution_count": 54,
   "metadata": {},
   "outputs": [],
   "source": [
    "class ValidCheck:\n",
    "    def __init__(\n",
    "        self,\n",
    "        revealed_state,\n",
    "        flagged_mines,\n",
    "        unclicked_non_mine_count,\n",
    "        unflagged_mine_count,\n",
    "    ):\n",
    "        self.revealed_state = revealed_state\n",
    "        self.flagged_mines = flagged_mines\n",
    "        self.unclicked_non_mine_count = unclicked_non_mine_count\n",
    "        self.unflagged_mine_count = unflagged_mine_count\n",
    "        self.x_max = revealed_state.shape[0]\n",
    "        self.y_max = revealed_state.shape[1]\n",
    "        \n",
    "    def check_too_many_neighbors(self, x, y, revealed_mine_total):\n",
    "        \"\"\"\n",
    "        Finds number of neighbours of cell\n",
    "\n",
    "        Args:\n",
    "            x: cell row\n",
    "            y: cell col\n",
    "\n",
    "        Returns:\n",
    "            Number of mines neigbhouring cell\n",
    "        \"\"\"\n",
    "        flagged_mine_total = 0\n",
    "        for x_neighbor, y_neighbour in minesweeper.gen_neighbor_indexes(\n",
    "            x, y, self.x_max, self.y_max\n",
    "        ):\n",
    "            flagged_mine_total += self.flagged_mines[x_neighbor][x_neighbor]\n",
    "            \n",
    "        return flagged_mine_total > self.flagged_mines[x][y]\n",
    "    \n",
    "    def solve(self):\n",
    "        contradiction = False\n",
    "        for x in range(self.x_max):\n",
    "            for y in range(self.y_max):\n",
    "                if self.check_too_many_neighbors(x, y, self.revealed_state[x][y]):\n",
    "                    contradiction = False\n",
    "                    \n",
    "                "
   ]
  },
  {
   "cell_type": "code",
   "execution_count": null,
   "metadata": {},
   "outputs": [],
   "source": [
    "class ContraditionCheckStrategy:\n",
    "    def __init__(\n",
    "        self,\n",
    "        revealed_state,\n",
    "        flagged_mines,\n",
    "        unclicked_non_mine_count,\n",
    "        unflagged_mine_count,\n",
    "    ):\n",
    "        self.revealed_state = revealed_state\n",
    "        self.flagged_mines = flagged_mines\n",
    "        self.unclicked_non_mine_count = unclicked_non_mine_count\n",
    "        self.unflagged_mine_count = unflagged_mine_count\n",
    "        self.x_max = revealed_state.shape[0]\n",
    "        self.y_max = revealed_state.shape[1]\n",
    "        self.mine_flag_indexes = False\n",
    "\n",
    "    def find_random_suggestion(self):\n",
    "        while True:\n",
    "            x, y = random.sample(\n",
    "                list(itertools.product(range(self.x_max), range(self.y_max))), k=1\n",
    "            )[0]\n",
    "            if self.revealed_state[x][y] == -1:\n",
    "                return (x, y), \"click\"\n",
    "\n",
    "    def find_action(self):\n",
    "        for x in range(self.x_max):\n",
    "            for y in range(self.y_max):\n",
    "                neighboring_flagged_mines = self.find_neighboring_flagged_mines(\n",
    "                    x, y, self.revealed_state[x][y]\n",
    "                )\n",
    "                if (\n",
    "                    neighboring_flagged_mines == self.revealed_state[x][y]\n",
    "                    and neighboring_flagged_mines > 0\n",
    "                ):\n",
    "                    for x_neighbor, y_neighbour in minesweeper.gen_neighbor_indexes(\n",
    "                        x, y, self.x_max, self.y_max\n",
    "                    ):\n",
    "                        if self.flagged_mines[x_neighbor][y_neighbour] == -1:\n",
    "                            return (x_neighbour, y_neighbour), \"click\"\n",
    "                if self.mine_flag_indexes:\n",
    "                    return self.mine_flag_indexes, \"flag\"\n",
    "        return self.find_random_suggestion()\n",
    "\n",
    "    def find_neighboring_flagged_mines(self, x, y, revealed_mine_total):\n",
    "        \"\"\"\n",
    "        Finds number of neighbours of cell\n",
    "\n",
    "        Args:\n",
    "            x: cell row\n",
    "            y: cell col\n",
    "\n",
    "        Returns:\n",
    "            Number of mines neigbhouring cell\n",
    "        \"\"\"\n",
    "        flagged_mine_total = 0\n",
    "        unexplored_total = 0\n",
    "        unexplored_index = -1, -1\n",
    "        for x_neighbor, y_neighbour in minesweeper.gen_neighbor_indexes(\n",
    "            x, y, self.x_max, self.y_max\n",
    "        ):\n",
    "            flagged_mine_total += self.flagged_mines[x_neighbor][x_neighbor]\n",
    "            if self.revealed_state[x_neighbor][x_neighbor] == -1:\n",
    "                unexplored_index = x_neighbor, x_neighbor\n",
    "                unexplored_total += 1\n",
    "\n",
    "        if (\n",
    "            revealed_mine_total - flagged_mine_total == unexplored_total\n",
    "            and revealed_mine_total > 0\n",
    "        ):\n",
    "            self.mine_flag_indexes = unexplored_index\n",
    "        return flagged_mine_total - self.flagged_mines[x][y]"
   ]
  }
 ],
 "metadata": {
  "kernelspec": {
   "display_name": "Python 3",
   "language": "python",
   "name": "python3"
  },
  "language_info": {
   "codemirror_mode": {
    "name": "ipython",
    "version": 3
   },
   "file_extension": ".py",
   "mimetype": "text/x-python",
   "name": "python",
   "nbconvert_exporter": "python",
   "pygments_lexer": "ipython3",
   "version": "3.8.2"
  }
 },
 "nbformat": 4,
 "nbformat_minor": 4
}
